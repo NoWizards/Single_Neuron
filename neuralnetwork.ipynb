{
 "cells": [
  {
   "cell_type": "code",
   "execution_count": 1,
   "metadata": {
    "collapsed": true
   },
   "outputs": [],
   "source": [
    "from numpy import exp, array, random, dot"
   ]
  },
  {
   "cell_type": "code",
   "execution_count": 70,
   "metadata": {
    "collapsed": true
   },
   "outputs": [],
   "source": [
    "class NeuralNetwork():\n",
    "    def __init__(self):\n",
    "        \"\"\" Seed the random number generator, so it generates the same\n",
    "        numbers everytime the program runs.\"\"\"\n",
    "        random.seed(1)\n",
    "        \n",
    "        \"\"\"We model a single neuron, with 3 input connections and 1\n",
    "        output connection.\n",
    "        We assign random weights to a 3x1 matrix, range -1, 1 and mean 0\"\"\"\n",
    "        self.synaptic_weights = 2*random.random((3,1))-1\n",
    "        \n",
    "        \"\"\"the sigmoid function, will normalize the output between 0 and 1\"\"\"\n",
    "    def sigmoid(self, x):\n",
    "        return 1/(1 + exp(-x))\n",
    "        \n",
    "        \"\"\"derivative of sigmoid (gradient of sigmoid curve)\n",
    "        indicates how confident we are about the existing weight\"\"\"\n",
    "    def sigmoid_derivative(self, x):\n",
    "        return x*(1-x)\n",
    "        \n",
    "        \"\"\"We train our neural network through a process of trial and error\n",
    "        adjusting the synaptic weights each time\"\"\"\n",
    "    def train(self, training_set_inputs, training_set_ouputs, training_iterations):\n",
    "        for iteration in range(training_iterations):\n",
    "                #pass the training set throug our neural network(a single neuron)\n",
    "            output = self.think(training_set_inputs)\n",
    "                \n",
    "                #calculate the error\n",
    "            error = training_set_outputs - output\n",
    "                \n",
    "                #adjust weights by\n",
    "                # error*input*output*(1-output)\n",
    "            adjustment = dot(training_set_inputs.T, error*self.sigmoid_derivative(output))\n",
    "                \n",
    "                #adjust the weights\n",
    "            self.synaptic_weights += adjustment\n",
    "                \n",
    "                #just print status\n",
    "            if(iteration%1000==0):\n",
    "                print('synapsis in iteration \\n {}'.format(iteration))\n",
    "                print(self.synaptic_weights)\n",
    "        \n",
    "        #the neural network thinks.\n",
    "    def think(self, inputs):\n",
    "            #pass inputs through our neural network\n",
    "        return self.sigmoid(dot(inputs, self.synaptic_weights))\n",
    "        \n",
    "                "
   ]
  },
  {
   "cell_type": "code",
   "execution_count": 71,
   "metadata": {},
   "outputs": [
    {
     "name": "stdout",
     "output_type": "stream",
     "text": [
      "random starting synaptic weights:\n",
      " [[-0.16595599]\n",
      " [ 0.44064899]\n",
      " [-0.99977125]]\n"
     ]
    }
   ],
   "source": [
    "neural_network = NeuralNetwork()\n",
    "\n",
    "print('random starting synaptic weights:\\n {}'.format(neural_network.synaptic_weights))"
   ]
  },
  {
   "cell_type": "markdown",
   "metadata": {},
   "source": [
    "the training set: 4 examples, each with 3 inputs + 1 output"
   ]
  },
  {
   "cell_type": "code",
   "execution_count": 18,
   "metadata": {
    "collapsed": true
   },
   "outputs": [],
   "source": [
    "training_set_inputs = array([[0,0,1],\n",
    "                             [1,1,1],\n",
    "                             [1,0,1],\n",
    "                             [0,1,1]])\n",
    "training_set_outputs = array([[0,1,1,0]]).T\n"
   ]
  },
  {
   "cell_type": "markdown",
   "metadata": {},
   "source": [
    "train the neural network using the training set\n",
    "do it 10k times"
   ]
  },
  {
   "cell_type": "code",
   "execution_count": 72,
   "metadata": {},
   "outputs": [
    {
     "name": "stdout",
     "output_type": "stream",
     "text": [
      "synapsis in iteration \n",
      " 0\n",
      "[[ 0.12025406]\n",
      " [ 0.50456196]\n",
      " [-0.85063774]]\n",
      "synapsis in iteration \n",
      " 1000\n",
      "[[ 7.26390912]\n",
      " [-0.21614179]\n",
      " [-3.41757429]]\n",
      "synapsis in iteration \n",
      " 2000\n",
      "[[ 8.00295317]\n",
      " [-0.21312397]\n",
      " [-3.79003922]]\n",
      "synapsis in iteration \n",
      " 3000\n",
      "[[ 8.42866725]\n",
      " [-0.21151839]\n",
      " [-4.00434002]]\n",
      "synapsis in iteration \n",
      " 4000\n",
      "[[ 8.72838062]\n",
      " [-0.21048906]\n",
      " [-4.15509467]]\n",
      "synapsis in iteration \n",
      " 5000\n",
      "[[ 8.95971398]\n",
      " [-0.20975712]\n",
      " [-4.2713893 ]]\n",
      "synapsis in iteration \n",
      " 6000\n",
      "[[ 9.14806878]\n",
      " [-0.20920202]\n",
      " [-4.36603782]]\n",
      "synapsis in iteration \n",
      " 7000\n",
      "[[ 9.30690067]\n",
      " [-0.20876215]\n",
      " [-4.44582422]]\n",
      "synapsis in iteration \n",
      " 8000\n",
      "[[ 9.44420015]\n",
      " [-0.20840232]\n",
      " [-4.51477526]]\n",
      "synapsis in iteration \n",
      " 9000\n",
      "[[ 9.56510056]\n",
      " [-0.20810078]\n",
      " [-4.5754768 ]]\n"
     ]
    }
   ],
   "source": [
    "neural_network.train(training_set_inputs, training_set_outputs, 10000)"
   ]
  },
  {
   "cell_type": "code",
   "execution_count": 73,
   "metadata": {},
   "outputs": [
    {
     "name": "stdout",
     "output_type": "stream",
     "text": [
      "New synaptic weights after training\n",
      "[[ 9.67299303]\n",
      " [-0.2078435 ]\n",
      " [-4.62963669]]\n"
     ]
    }
   ],
   "source": [
    "print('New synaptic weights after training')\n",
    "print (neural_network.synaptic_weights)"
   ]
  },
  {
   "cell_type": "markdown",
   "metadata": {},
   "source": [
    "test the neural network with a new situation"
   ]
  },
  {
   "cell_type": "code",
   "execution_count": 74,
   "metadata": {},
   "outputs": [
    {
     "name": "stdout",
     "output_type": "stream",
     "text": [
      "considering a new situation [1,0,0] -> ?:\n",
      "[0.99993704]\n"
     ]
    }
   ],
   "source": [
    "print('considering a new situation [1,0,0] -> ?:')\n",
    "print(neural_network.think(array([1,0,0])))"
   ]
  },
  {
   "cell_type": "code",
   "execution_count": 75,
   "metadata": {},
   "outputs": [
    {
     "name": "stdout",
     "output_type": "stream",
     "text": [
      "considering a new situation [1,1,1] -> ?:\n",
      "[0.99211997]\n"
     ]
    }
   ],
   "source": [
    "print('considering a new situation [1,1,1] -> ?:')\n",
    "print(neural_network.think(array([1,1,1])))"
   ]
  },
  {
   "cell_type": "code",
   "execution_count": 76,
   "metadata": {},
   "outputs": [
    {
     "name": "stdout",
     "output_type": "stream",
     "text": [
      "considering a new situation [0,0,0] -> ?:\n",
      "[0.5]\n"
     ]
    }
   ],
   "source": [
    "print('considering a new situation [0,0,0] -> ?:')\n",
    "print(neural_network.think(array([0,0,0])))"
   ]
  },
  {
   "cell_type": "code",
   "execution_count": 77,
   "metadata": {},
   "outputs": [
    {
     "name": "stdout",
     "output_type": "stream",
     "text": [
      "considering a new situation [0,1,0] -> ?:\n",
      "[0.44822538]\n"
     ]
    }
   ],
   "source": [
    "print('considering a new situation [0,1,0] -> ?:')\n",
    "print(neural_network.think(array([0,1,0])))"
   ]
  },
  {
   "cell_type": "code",
   "execution_count": null,
   "metadata": {
    "collapsed": true
   },
   "outputs": [],
   "source": []
  }
 ],
 "metadata": {
  "kernelspec": {
   "display_name": "Python 3",
   "language": "python",
   "name": "python3"
  },
  "language_info": {
   "codemirror_mode": {
    "name": "ipython",
    "version": 3
   },
   "file_extension": ".py",
   "mimetype": "text/x-python",
   "name": "python",
   "nbconvert_exporter": "python",
   "pygments_lexer": "ipython3",
   "version": "3.6.3"
  }
 },
 "nbformat": 4,
 "nbformat_minor": 2
}
